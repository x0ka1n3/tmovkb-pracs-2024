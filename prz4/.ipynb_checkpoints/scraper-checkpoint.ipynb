{
 "cells": [
  {
   "cell_type": "code",
   "execution_count": 1,
   "id": "6ed25011-63b1-4c38-bdfb-90e0ded62456",
   "metadata": {},
   "outputs": [
    {
     "name": "stdout",
     "output_type": "stream",
     "text": [
      "Requirement already satisfied: scrapy in c:\\users\\ildar\\venv310\\lib\\site-packages (2.11.2)\n",
      "Requirement already satisfied: queuelib>=1.4.2 in c:\\users\\ildar\\venv310\\lib\\site-packages (from scrapy) (1.7.0)\n",
      "Requirement already satisfied: setuptools in c:\\users\\ildar\\venv310\\lib\\site-packages (from scrapy) (65.5.0)\n",
      "Requirement already satisfied: packaging in c:\\users\\ildar\\venv310\\lib\\site-packages (from scrapy) (23.0)\n",
      "Requirement already satisfied: tldextract in c:\\users\\ildar\\venv310\\lib\\site-packages (from scrapy) (5.1.2)\n",
      "Requirement already satisfied: pyOpenSSL>=21.0.0 in c:\\users\\ildar\\venv310\\lib\\site-packages (from scrapy) (24.1.0)\n",
      "Requirement already satisfied: defusedxml>=0.7.1 in c:\\users\\ildar\\venv310\\lib\\site-packages (from scrapy) (0.7.1)\n",
      "Requirement already satisfied: itemloaders>=1.0.1 in c:\\users\\ildar\\venv310\\lib\\site-packages (from scrapy) (1.3.1)\n",
      "Requirement already satisfied: cssselect>=0.9.1 in c:\\users\\ildar\\venv310\\lib\\site-packages (from scrapy) (1.2.0)\n",
      "Requirement already satisfied: w3lib>=1.17.0 in c:\\users\\ildar\\venv310\\lib\\site-packages (from scrapy) (2.2.1)\n",
      "Requirement already satisfied: itemadapter>=0.1.0 in c:\\users\\ildar\\venv310\\lib\\site-packages (from scrapy) (0.9.0)\n",
      "Requirement already satisfied: Twisted>=18.9.0 in c:\\users\\ildar\\venv310\\lib\\site-packages (from scrapy) (24.3.0)\n",
      "Requirement already satisfied: service-identity>=18.1.0 in c:\\users\\ildar\\venv310\\lib\\site-packages (from scrapy) (24.1.0)\n",
      "Requirement already satisfied: zope.interface>=5.1.0 in c:\\users\\ildar\\venv310\\lib\\site-packages (from scrapy) (6.4.post2)\n",
      "Requirement already satisfied: PyDispatcher>=2.0.5 in c:\\users\\ildar\\venv310\\lib\\site-packages (from scrapy) (2.0.7)\n",
      "Requirement already satisfied: cryptography>=36.0.0 in c:\\users\\ildar\\venv310\\lib\\site-packages (from scrapy) (42.0.8)\n",
      "Requirement already satisfied: parsel>=1.5.0 in c:\\users\\ildar\\venv310\\lib\\site-packages (from scrapy) (1.9.1)\n",
      "Requirement already satisfied: protego>=0.1.15 in c:\\users\\ildar\\venv310\\lib\\site-packages (from scrapy) (0.3.1)\n",
      "Requirement already satisfied: lxml>=4.4.1 in c:\\users\\ildar\\venv310\\lib\\site-packages (from scrapy) (5.2.2)\n",
      "Requirement already satisfied: cffi>=1.12 in c:\\users\\ildar\\venv310\\lib\\site-packages (from cryptography>=36.0.0->scrapy) (1.16.0)\n",
      "Requirement already satisfied: jmespath>=0.9.5 in c:\\users\\ildar\\venv310\\lib\\site-packages (from itemloaders>=1.0.1->scrapy) (1.0.1)\n",
      "Requirement already satisfied: pyasn1-modules in c:\\users\\ildar\\venv310\\lib\\site-packages (from service-identity>=18.1.0->scrapy) (0.4.0)\n",
      "Requirement already satisfied: pyasn1 in c:\\users\\ildar\\venv310\\lib\\site-packages (from service-identity>=18.1.0->scrapy) (0.6.0)\n",
      "Requirement already satisfied: attrs>=19.1.0 in c:\\users\\ildar\\venv310\\lib\\site-packages (from service-identity>=18.1.0->scrapy) (22.2.0)\n",
      "Requirement already satisfied: twisted-iocpsupport<2,>=1.0.2 in c:\\users\\ildar\\venv310\\lib\\site-packages (from Twisted>=18.9.0->scrapy) (1.0.4)\n",
      "Requirement already satisfied: hyperlink>=17.1.1 in c:\\users\\ildar\\venv310\\lib\\site-packages (from Twisted>=18.9.0->scrapy) (21.0.0)\n",
      "Requirement already satisfied: automat>=0.8.0 in c:\\users\\ildar\\venv310\\lib\\site-packages (from Twisted>=18.9.0->scrapy) (22.10.0)\n",
      "Requirement already satisfied: constantly>=15.1 in c:\\users\\ildar\\venv310\\lib\\site-packages (from Twisted>=18.9.0->scrapy) (23.10.4)\n",
      "Requirement already satisfied: typing-extensions>=4.2.0 in c:\\users\\ildar\\venv310\\lib\\site-packages (from Twisted>=18.9.0->scrapy) (4.12.2)\n",
      "Requirement already satisfied: incremental>=22.10.0 in c:\\users\\ildar\\venv310\\lib\\site-packages (from Twisted>=18.9.0->scrapy) (22.10.0)\n",
      "Requirement already satisfied: requests>=2.1.0 in c:\\users\\ildar\\venv310\\lib\\site-packages (from tldextract->scrapy) (2.32.3)\n",
      "Requirement already satisfied: idna in c:\\users\\ildar\\venv310\\lib\\site-packages (from tldextract->scrapy) (3.4)\n",
      "Requirement already satisfied: requests-file>=1.4 in c:\\users\\ildar\\venv310\\lib\\site-packages (from tldextract->scrapy) (2.1.0)\n",
      "Requirement already satisfied: filelock>=3.0.8 in c:\\users\\ildar\\venv310\\lib\\site-packages (from tldextract->scrapy) (3.15.4)\n",
      "Requirement already satisfied: six in c:\\users\\ildar\\venv310\\lib\\site-packages (from automat>=0.8.0->Twisted>=18.9.0->scrapy) (1.16.0)\n",
      "Requirement already satisfied: pycparser in c:\\users\\ildar\\venv310\\lib\\site-packages (from cffi>=1.12->cryptography>=36.0.0->scrapy) (2.22)\n",
      "Requirement already satisfied: charset-normalizer<4,>=2 in c:\\users\\ildar\\venv310\\lib\\site-packages (from requests>=2.1.0->tldextract->scrapy) (3.0.1)\n",
      "Requirement already satisfied: certifi>=2017.4.17 in c:\\users\\ildar\\venv310\\lib\\site-packages (from requests>=2.1.0->tldextract->scrapy) (2022.12.7)\n",
      "Requirement already satisfied: urllib3<3,>=1.21.1 in c:\\users\\ildar\\venv310\\lib\\site-packages (from requests>=2.1.0->tldextract->scrapy) (1.26.14)\n"
     ]
    },
    {
     "name": "stderr",
     "output_type": "stream",
     "text": [
      "\n",
      "[notice] A new release of pip available: 22.3.1 -> 24.1.1\n",
      "[notice] To update, run: python.exe -m pip install --upgrade pip\n"
     ]
    },
    {
     "name": "stdout",
     "output_type": "stream",
     "text": [
      "Requirement already satisfied: pandas in c:\\users\\ildar\\venv310\\lib\\site-packages (1.5.3)\n",
      "Requirement already satisfied: numpy>=1.21.0 in c:\\users\\ildar\\venv310\\lib\\site-packages (from pandas) (1.26.4)\n",
      "Requirement already satisfied: python-dateutil>=2.8.1 in c:\\users\\ildar\\venv310\\lib\\site-packages (from pandas) (2.8.2)\n",
      "Requirement already satisfied: pytz>=2020.1 in c:\\users\\ildar\\venv310\\lib\\site-packages (from pandas) (2022.7.1)\n",
      "Requirement already satisfied: six>=1.5 in c:\\users\\ildar\\venv310\\lib\\site-packages (from python-dateutil>=2.8.1->pandas) (1.16.0)\n"
     ]
    },
    {
     "name": "stderr",
     "output_type": "stream",
     "text": [
      "\n",
      "[notice] A new release of pip available: 22.3.1 -> 24.1.1\n",
      "[notice] To update, run: python.exe -m pip install --upgrade pip\n"
     ]
    }
   ],
   "source": [
    "# !pip install scrapy\n",
    "# !pip install pandas"
   ]
  },
  {
   "cell_type": "code",
   "execution_count": 2,
   "id": "390aadcc-6b37-4617-a8fb-5078574c06dd",
   "metadata": {},
   "outputs": [
    {
     "name": "stderr",
     "output_type": "stream",
     "text": [
      "Traceback (most recent call last):\n",
      "  File \"C:\\Users\\ildar\\AppData\\Local\\Programs\\Python\\Python310\\lib\\runpy.py\", line 196, in _run_module_as_main\n",
      "    return _run_code(code, main_globals, None,\n",
      "  File \"C:\\Users\\ildar\\AppData\\Local\\Programs\\Python\\Python310\\lib\\runpy.py\", line 86, in _run_code\n",
      "    exec(code, run_globals)\n",
      "  File \"C:\\Users\\ildar\\venv310\\Scripts\\scrapy.exe\\__main__.py\", line 7, in <module>\n",
      "  File \"C:\\Users\\ildar\\venv310\\lib\\site-packages\\scrapy\\cmdline.py\", line 161, in execute\n",
      "    _run_print_help(parser, _run_command, cmd, args, opts)\n",
      "  File \"C:\\Users\\ildar\\venv310\\lib\\site-packages\\scrapy\\cmdline.py\", line 114, in _run_print_help\n",
      "    func(*a, **kw)\n",
      "  File \"C:\\Users\\ildar\\venv310\\lib\\site-packages\\scrapy\\cmdline.py\", line 169, in _run_command\n",
      "    cmd.run(args, opts)\n",
      "  File \"C:\\Users\\ildar\\venv310\\lib\\site-packages\\scrapy\\commands\\startproject.py\", line 100, in run\n",
      "    print(f\"Error: scrapy.cfg already exists in {project_dir.resolve()}\")\n",
      "  File \"C:\\Users\\ildar\\AppData\\Local\\Programs\\Python\\Python310\\lib\\encodings\\cp1252.py\", line 19, in encode\n",
      "    return codecs.charmap_encode(input,self.errors,encoding_table)[0]\n",
      "UnicodeEncodeError: 'charmap' codec can't encode characters in position 54-57: character maps to <undefined>\n"
     ]
    }
   ],
   "source": [
    "!scrapy startproject ildar_spider"
   ]
  },
  {
   "cell_type": "code",
   "execution_count": 3,
   "id": "e9ad949b-d184-40a2-a195-1a7f23a85caf",
   "metadata": {},
   "outputs": [
    {
     "name": "stdout",
     "output_type": "stream",
     "text": [
      "Overwriting ildar_spider/ildar_spider/spiders/ildar_spider.py\n"
     ]
    }
   ],
   "source": [
    "%%writefile ildar_spider/ildar_spider/spiders/ildar_spider.py\n",
    "import scrapy\n",
    "\n",
    "class ildarSpider(scrapy.Spider):\n",
    "    name = 'ildar_spider'\n",
    "    start_urls = ['https://wishmaster.me/catalog/smartfony/']\n",
    "\n",
    "    def parse(self, response):\n",
    "        for phone in response.css('div.product-item'):\n",
    "            yield {\n",
    "                'title': \" \".join([i for i in phone.css('div.product-item-title').css('a::text').get().replace(\"\\n\",\"\").split(\" \") if i!=\"\"]),\n",
    "                # 'author': quote.css('span small::text').get(),\n",
    "                # 'tags': quote.css('div.tags a.tag::text').getall(),\n",
    "                \"price\": \" \".join([i for i in phone.css(\"div.product-item-price-current__price\").css(\"span.product-item-price-current::text\").get().replace(\"\\n\",\"\").replace(r\"\\xa\",\"\").split(\" \") if i != \"\"])\n",
    "            }\n",
    "\n",
    "        # yield from response.follow_all(css='li.next a', callback=self.parse)"
   ]
  },
  {
   "cell_type": "code",
   "execution_count": 7,
   "id": "1f052ce4-62e3-4ea6-b9e6-50b1e591b441",
   "metadata": {},
   "outputs": [
    {
     "name": "stderr",
     "output_type": "stream",
     "text": [
      "2024-06-28 01:12:56 [scrapy.utils.log] INFO: Scrapy 2.11.2 started (bot: ildar_spider)\n",
      "2024-06-28 01:12:56 [scrapy.utils.log] INFO: Versions: lxml 5.2.2.0, libxml2 2.11.7, cssselect 1.2.0, parsel 1.9.1, w3lib 2.2.1, Twisted 24.3.0, Python 3.10.10 (tags/v3.10.10:aad5f6a, Feb  7 2023, 17:20:36) [MSC v.1929 64 bit (AMD64)], pyOpenSSL 24.1.0 (OpenSSL 3.2.2 4 Jun 2024), cryptography 42.0.8, Platform Windows-10-10.0.22631-SP0\n",
      "2024-06-28 01:12:56 [scrapy.addons] INFO: Enabled addons:\n",
      "[]\n",
      "2024-06-28 01:12:56 [asyncio] DEBUG: Using selector: SelectSelector\n",
      "2024-06-28 01:12:56 [scrapy.utils.log] DEBUG: Using reactor: twisted.internet.asyncioreactor.AsyncioSelectorReactor\n",
      "2024-06-28 01:12:56 [scrapy.utils.log] DEBUG: Using asyncio event loop: asyncio.windows_events._WindowsSelectorEventLoop\n",
      "2024-06-28 01:12:56 [scrapy.extensions.telnet] INFO: Telnet Password: 5388b8a0b1777df1\n",
      "2024-06-28 01:12:56 [scrapy.middleware] INFO: Enabled extensions:\n",
      "['scrapy.extensions.corestats.CoreStats',\n",
      " 'scrapy.extensions.telnet.TelnetConsole',\n",
      " 'scrapy.extensions.feedexport.FeedExporter',\n",
      " 'scrapy.extensions.logstats.LogStats']\n",
      "2024-06-28 01:12:56 [scrapy.crawler] INFO: Overridden settings:\n",
      "{'BOT_NAME': 'ildar_spider',\n",
      " 'FEED_EXPORT_ENCODING': 'utf-8',\n",
      " 'NEWSPIDER_MODULE': 'ildar_spider.spiders',\n",
      " 'REQUEST_FINGERPRINTER_IMPLEMENTATION': '2.7',\n",
      " 'ROBOTSTXT_OBEY': True,\n",
      " 'SPIDER_MODULES': ['ildar_spider.spiders'],\n",
      " 'TWISTED_REACTOR': 'twisted.internet.asyncioreactor.AsyncioSelectorReactor'}\n",
      "2024-06-28 01:12:56 [scrapy.middleware] INFO: Enabled downloader middlewares:\n",
      "['scrapy.downloadermiddlewares.offsite.OffsiteMiddleware',\n",
      " 'scrapy.downloadermiddlewares.robotstxt.RobotsTxtMiddleware',\n",
      " 'scrapy.downloadermiddlewares.httpauth.HttpAuthMiddleware',\n",
      " 'scrapy.downloadermiddlewares.downloadtimeout.DownloadTimeoutMiddleware',\n",
      " 'scrapy.downloadermiddlewares.defaultheaders.DefaultHeadersMiddleware',\n",
      " 'scrapy.downloadermiddlewares.useragent.UserAgentMiddleware',\n",
      " 'scrapy.downloadermiddlewares.retry.RetryMiddleware',\n",
      " 'scrapy.downloadermiddlewares.redirect.MetaRefreshMiddleware',\n",
      " 'scrapy.downloadermiddlewares.httpcompression.HttpCompressionMiddleware',\n",
      " 'scrapy.downloadermiddlewares.redirect.RedirectMiddleware',\n",
      " 'scrapy.downloadermiddlewares.cookies.CookiesMiddleware',\n",
      " 'scrapy.downloadermiddlewares.httpproxy.HttpProxyMiddleware',\n",
      " 'scrapy.downloadermiddlewares.stats.DownloaderStats']\n",
      "2024-06-28 01:12:56 [scrapy.middleware] INFO: Enabled spider middlewares:\n",
      "['scrapy.spidermiddlewares.httperror.HttpErrorMiddleware',\n",
      " 'scrapy.spidermiddlewares.referer.RefererMiddleware',\n",
      " 'scrapy.spidermiddlewares.urllength.UrlLengthMiddleware',\n",
      " 'scrapy.spidermiddlewares.depth.DepthMiddleware']\n",
      "2024-06-28 01:12:56 [scrapy.middleware] INFO: Enabled item pipelines:\n",
      "[]\n",
      "2024-06-28 01:12:56 [scrapy.core.engine] INFO: Spider opened\n",
      "2024-06-28 01:12:56 [scrapy.extensions.logstats] INFO: Crawled 0 pages (at 0 pages/min), scraped 0 items (at 0 items/min)\n",
      "2024-06-28 01:12:56 [scrapy.extensions.telnet] INFO: Telnet console listening on 127.0.0.1:6023\n",
      "2024-06-28 01:12:56 [scrapy.core.engine] DEBUG: Crawled (200) <GET https://wishmaster.me/robots.txt> (referer: None)\n",
      "2024-06-28 01:12:57 [scrapy.core.engine] DEBUG: Crawled (200) <GET https://wishmaster.me/catalog/smartfony/> (referer: None)\n",
      "2024-06-28 01:12:57 [scrapy.core.scraper] DEBUG: Scraped from <200 https://wishmaster.me/catalog/smartfony/>\n",
      "\n",
      "{'title': '\\u0421\\u043c\\u0430\\u0440\\u0442\\u0444\\u043e\\u043d Apple iPhone 12 64GB (64 \\u0413\\u0411, \\u0417\\u0435\\u043b\\u0451\\u043d\\u044b\\u0439, 4 \\u0413\\u0411, \\u0423\\u0446\\u0435\\u043d\\u043a\\u0430)', 'price': '36\\xa0490 \\u0440\\u0443\\u0431.'}\n",
      "2024-06-28 01:12:57 [scrapy.core.scraper] DEBUG: Scraped from <200 https://wishmaster.me/catalog/smartfony/>\n",
      "\n",
      "{'title': '\\u0421\\u043c\\u0430\\u0440\\u0442\\u0444\\u043e\\u043d Apple iPhone 15 Pro Max 1TB eSim (\\u0421\\u0438\\u043d\\u0438\\u0439, 8 \\u0413\\u0411, 1 \\u0422\\u0411, \\u0423\\u0446\\u0435\\u043d\\u043a\\u0430)', 'price': '124\\xa0490 \\u0440\\u0443\\u0431.'}\n",
      "2024-06-28 01:12:57 [scrapy.core.scraper] DEBUG: Scraped from <200 https://wishmaster.me/catalog/smartfony/>\n",
      "\n",
      "{'title': '\\u0421\\u043c\\u0430\\u0440\\u0442\\u0444\\u043e\\u043d Apple iPhone 14 Pro 256GB Dual nanoSIM (256 \\u0413\\u0411, \\u0417\\u043e\\u043b\\u043e\\u0442\\u043e\\u0439, \\u041a\\u0438\\u0442\\u0430\\u0439, 6 \\u0413\\u0411, \\u0423\\u0446\\u0435\\u043d\\u043a\\u0430)', 'price': '86\\xa0490 \\u0440\\u0443\\u0431.'}\n",
      "2024-06-28 01:12:57 [scrapy.core.scraper] DEBUG: Scraped from <200 https://wishmaster.me/catalog/smartfony/>\n",
      "\n",
      "{'title': '\\u0421\\u043c\\u0430\\u0440\\u0442\\u0444\\u043e\\u043d Xiaomi Redmi Note 12 Pro 4G 8/256GB Global (\\u0413\\u043e\\u043b\\u0443\\u0431\\u043e\\u0439, 256 \\u0413\\u0411, 8 \\u0413\\u0411, Global)', 'price': '19\\xa0240 \\u0440\\u0443\\u0431.'}\n",
      "2024-06-28 01:12:57 [scrapy.core.scraper] DEBUG: Scraped from <200 https://wishmaster.me/catalog/smartfony/>\n",
      "\n",
      "{'title': '\\u0421\\u043c\\u0430\\u0440\\u0442\\u0444\\u043e\\u043d Samsung Galaxy Z Fold5 12/256GB (\\u0427\\u0435\\u0440\\u043d\\u044b\\u0439, 256 \\u0413\\u0411, 12 \\u0413\\u0411, \\u0423\\u0446\\u0435\\u043d\\u043a\\u0430)', 'price': '98\\xa0490 \\u0440\\u0443\\u0431.'}\n",
      "2024-06-28 01:12:57 [scrapy.core.scraper] DEBUG: Scraped from <200 https://wishmaster.me/catalog/smartfony/>\n",
      "\n",
      "{'title': '\\u0421\\u043c\\u0430\\u0440\\u0442\\u0444\\u043e\\u043d Sony Xperia 1 VI 12/256GB (12 \\u0413\\u0411, 256 \\u0413\\u0411, \\u0421\\u0435\\u0440\\u0435\\u0431\\u0440\\u0438\\u0441\\u0442\\u044b\\u0439)', 'price': '107\\xa0990 \\u0440\\u0443\\u0431.'}\n",
      "2024-06-28 01:12:57 [scrapy.core.scraper] DEBUG: Scraped from <200 https://wishmaster.me/catalog/smartfony/>\n",
      "\n",
      "{'title': '\\u0421\\u043c\\u0430\\u0440\\u0442\\u0444\\u043e\\u043d Sony Xperia 1 VI 12/256GB (12 \\u0413\\u0411, 256 \\u0413\\u0411, \\u0417\\u0435\\u043b\\u0435\\u043d\\u044b\\u0439)', 'price': '107\\xa0990 \\u0440\\u0443\\u0431.'}\n",
      "2024-06-28 01:12:57 [scrapy.core.scraper] DEBUG: Scraped from <200 https://wishmaster.me/catalog/smartfony/>\n",
      "\n",
      "{'title': '\\u0421\\u043c\\u0430\\u0440\\u0442\\u0444\\u043e\\u043d Apple iPhone 15 Pro Max 512GB nanoSim+eSim (Blue, 8 \\u0413\\u0411, 512 \\u0413\\u0411, \\u0423\\u0446\\u0435\\u043d\\u043a\\u0430)', 'price': '120\\xa0990 \\u0440\\u0443\\u0431.'}\n",
      "2024-06-28 01:12:57 [scrapy.core.scraper] DEBUG: Scraped from <200 https://wishmaster.me/catalog/smartfony/>\n",
      "\n",
      "{'title': '\\u0421\\u043c\\u0430\\u0440\\u0442\\u0444\\u043e\\u043d Xiaomi POCO M6 6/128GB (\\u0421\\u0435\\u0440\\u0435\\u0431\\u0440\\u0438\\u0441\\u0442\\u044b\\u0439, 128 \\u0413\\u0411, 6 \\u0413\\u0411)', 'price': '13\\xa0980 \\u0440\\u0443\\u0431.'}\n",
      "2024-06-28 01:12:57 [scrapy.core.scraper] DEBUG: Scraped from <200 https://wishmaster.me/catalog/smartfony/>\n",
      "\n",
      "{'title': '\\u0421\\u043c\\u0430\\u0440\\u0442\\u0444\\u043e\\u043d Xiaomi POCO M6 8/256GB (8 \\u0413\\u0411, 256 \\u0413\\u0411, \\u0427\\u0435\\u0440\\u043d\\u044b\\u0439)', 'price': '14\\xa0890 \\u0440\\u0443\\u0431.'}\n",
      "2024-06-28 01:12:57 [scrapy.core.scraper] DEBUG: Scraped from <200 https://wishmaster.me/catalog/smartfony/>\n",
      "\n",
      "{'title': '\\u0421\\u043c\\u0430\\u0440\\u0442\\u0444\\u043e\\u043d Xiaomi POCO M6 8/256GB (8 \\u0413\\u0411, 256 \\u0413\\u0411, \\u0424\\u0438\\u043e\\u043b\\u0435\\u0442\\u043e\\u0432\\u044b\\u0439)', 'price': '14\\xa0890 \\u0440\\u0443\\u0431.'}\n",
      "2024-06-28 01:12:57 [scrapy.core.engine] INFO: Closing spider (finished)\n",
      "2024-06-28 01:12:57 [scrapy.extensions.feedexport] INFO: Stored json feed (11 items) in: phones.json\n",
      "2024-06-28 01:12:57 [scrapy.statscollectors] INFO: Dumping Scrapy stats:\n",
      "{'downloader/request_bytes': 456,\n",
      " 'downloader/request_count': 2,\n",
      " 'downloader/request_method_count/GET': 2,\n",
      " 'downloader/response_bytes': 111915,\n",
      " 'downloader/response_count': 2,\n",
      " 'downloader/response_status_count/200': 2,\n",
      " 'elapsed_time_seconds': 0.779085,\n",
      " 'feedexport/success_count/FileFeedStorage': 1,\n",
      " 'finish_reason': 'finished',\n",
      " 'finish_time': datetime.datetime(2024, 6, 27, 22, 12, 57, 353963, tzinfo=datetime.timezone.utc),\n",
      " 'httpcompression/response_bytes': 935931,\n",
      " 'httpcompression/response_count': 2,\n",
      " 'item_scraped_count': 11,\n",
      " 'log_count/DEBUG': 16,\n",
      " 'log_count/INFO': 11,\n",
      " 'response_received_count': 2,\n",
      " 'robotstxt/request_count': 1,\n",
      " 'robotstxt/response_count': 1,\n",
      " 'robotstxt/response_status_count/200': 1,\n",
      " 'scheduler/dequeued': 1,\n",
      " 'scheduler/dequeued/memory': 1,\n",
      " 'scheduler/enqueued': 1,\n",
      " 'scheduler/enqueued/memory': 1,\n",
      " 'start_time': datetime.datetime(2024, 6, 27, 22, 12, 56, 574878, tzinfo=datetime.timezone.utc)}\n",
      "2024-06-28 01:12:57 [scrapy.core.engine] INFO: Spider closed (finished)\n"
     ]
    }
   ],
   "source": [
    "!cd ildar_spider && scrapy crawl ildar_spider -o phones.json"
   ]
  },
  {
   "cell_type": "code",
   "execution_count": 13,
   "id": "9003e8e1-c112-4884-b02f-17e91d0c9e20",
   "metadata": {},
   "outputs": [
    {
     "data": {
      "text/plain": [
       "[{'title': 'Смартфон Apple iPhone 12 64GB (64 ГБ, Зелёный, 4 ГБ, Уценка)',\n",
       "  'price': '36490 руб.'},\n",
       " {'title': 'Смартфон Apple iPhone 15 Pro Max 1TB eSim (Синий, 8 ГБ, 1 ТБ, Уценка)',\n",
       "  'price': '124490 руб.'},\n",
       " {'title': 'Смартфон Apple iPhone 14 Pro 256GB Dual nanoSIM (256 ГБ, Золотой, Китай, 6 ГБ, Уценка)',\n",
       "  'price': '86490 руб.'},\n",
       " {'title': 'Смартфон Xiaomi Redmi Note 12 Pro 4G 8/256GB Global (Голубой, 256 ГБ, 8 ГБ, Global)',\n",
       "  'price': '19240 руб.'},\n",
       " {'title': 'Смартфон Samsung Galaxy Z Fold5 12/256GB (Черный, 256 ГБ, 12 ГБ, Уценка)',\n",
       "  'price': '98490 руб.'},\n",
       " {'title': 'Смартфон Sony Xperia 1 VI 12/256GB (12 ГБ, 256 ГБ, Серебристый)',\n",
       "  'price': '107990 руб.'},\n",
       " {'title': 'Смартфон Sony Xperia 1 VI 12/256GB (12 ГБ, 256 ГБ, Зеленый)',\n",
       "  'price': '107990 руб.'},\n",
       " {'title': 'Смартфон Apple iPhone 15 Pro Max 512GB nanoSim+eSim (Blue, 8 ГБ, 512 ГБ, Уценка)',\n",
       "  'price': '120990 руб.'},\n",
       " {'title': 'Смартфон Xiaomi POCO M6 6/128GB (Серебристый, 128 ГБ, 6 ГБ)',\n",
       "  'price': '13980 руб.'},\n",
       " {'title': 'Смартфон Xiaomi POCO M6 8/256GB (8 ГБ, 256 ГБ, Черный)',\n",
       "  'price': '14890 руб.'},\n",
       " {'title': 'Смартфон Xiaomi POCO M6 8/256GB (8 ГБ, 256 ГБ, Фиолетовый)',\n",
       "  'price': '14890 руб.'}]"
      ]
     },
     "execution_count": 13,
     "metadata": {},
     "output_type": "execute_result"
    }
   ],
   "source": [
    "import json\n",
    "\n",
    "json.load(open(\"ildar_spider\\phones.json\", encoding=\"utf-8\"))"
   ]
  },
  {
   "cell_type": "code",
   "execution_count": null,
   "id": "d583b777-eeed-4cff-9741-951c3c38142e",
   "metadata": {},
   "outputs": [],
   "source": []
  }
 ],
 "metadata": {
  "kernelspec": {
   "display_name": "Python 3 (ipykernel)",
   "language": "python",
   "name": "python3"
  },
  "language_info": {
   "codemirror_mode": {
    "name": "ipython",
    "version": 3
   },
   "file_extension": ".py",
   "mimetype": "text/x-python",
   "name": "python",
   "nbconvert_exporter": "python",
   "pygments_lexer": "ipython3",
   "version": "3.10.10"
  }
 },
 "nbformat": 4,
 "nbformat_minor": 5
}
