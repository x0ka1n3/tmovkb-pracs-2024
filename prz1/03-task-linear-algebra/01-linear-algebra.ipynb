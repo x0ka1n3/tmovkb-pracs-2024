{
 "cells": [
  {
   "cell_type": "markdown",
   "metadata": {
    "id": "3Tcrpcvbkses"
   },
   "source": [
    "Библиотека NumPy была создана дял решения научных задач, в том числе решения задач линейной алгебры и матричных вычислений.\n",
    "Она предоставляет  оптимизированные версии вычисленийи структур данных по сравнению с оригинальными, представленными в среде Python (список массивов vs ndarrays).\n",
    "Объекты класса ndarray позволяют повысить скорость вычислений в 25 раз по сравнению с обычными циклами  Python."
   ]
  },
  {
   "cell_type": "markdown",
   "metadata": {
    "id": "CLddn4xGfUph"
   },
   "source": [
    "# Операции с матрицами в NumPy\n",
    "Матрицы и операции, выполняемые над ними, имеют особое значение в области ML, они используются для удобного представления данных,\n",
    "которые передаются на вход моделям искусственного интеллекта.\n",
    "\n",
    "Матрицы особенно полезны при управлении и представлении больших объемов данных.\n",
    "\n",
    "Сама нотация обычно используется для идентификации элементов матрицы, используя\n",
    "позиционные индексы, которые позволяют выполнять последовательные, быстрые операции с модулями и\n",
    "вычисления, которые касаются либо всей матрицы, либо только определенных подмножеств. Например,\n",
    "элемент a[ij] легко идентифицируется внутри матрицы, пересекая строку i и столбец j.\n",
    "\n",
    "Матрица, состоящая только из одной строки (и нескольких столбцов), называется вектором.\n",
    "Векторы могут быть представлены в Python в виде объектов типа list.\n",
    "\n",
    "Однако, при выполнении операций между матрицами и векторами следует учитывать особые правила,\n",
    "установленные линейной алгеброй. Основные операции, которые могут быть выполнены с матрицами:\n",
    "\n",
    "Сложение\n",
    "Вычитание\n",
    "Скалярное произведение (сумма всех произведений по элементам матрицы и вектора)\n",
    "\n",
    "При умножении матриц свойство коммутативности не выполняется, таким образом важен порядок $(aX != Xa)$"
   ]
  },
  {
   "cell_type": "code",
   "execution_count": 1,
   "metadata": {
    "colab": {
     "base_uri": "https://localhost:8080/"
    },
    "id": "k3ocGpWufZ6o",
    "outputId": "e4afa53c-89fd-4340-885d-7dbf8e1cea6b",
    "tags": []
   },
   "outputs": [
    {
     "name": "stdout",
     "output_type": "stream",
     "text": [
      "Произведение z матрицы и вектора:\n",
      " [[ -8  75]\n",
      " [-24  60]\n",
      " [-16  45]]\n",
      "Скалярное произведение y:\n",
      " [67 36 29]\n"
     ]
    }
   ],
   "source": [
    "import numpy as np # импортируем библиотеку Numpy\n",
    "a = np.array([-8, 15]) # создаем вектор\n",
    "X = np.array([[1, 5],  # создаем матрицу\n",
    "              [3, 4],\n",
    "              [2, 3]])\n",
    "y = np.dot(X, a)       # выполняем скалярное умножение матрицы и вектора\n",
    "z = X*a                  # умножение матрицы и вектора \n",
    "print(f'Произведение z матрицы и вектора:\\n {z}')\n",
    "print(f'Скалярное произведение y:\\n {y}')"
   ]
  },
  {
   "cell_type": "code",
   "execution_count": 2,
   "metadata": {
    "colab": {
     "base_uri": "https://localhost:8080/"
    },
    "id": "GNyBa-2OgYjg",
    "outputId": "a40cebd7-646a-4b02-8e25-526d54a09ba8",
    "tags": []
   },
   "outputs": [
    {
     "data": {
      "text/plain": [
       "array([[ 0,  1,  2,  3,  4,  5,  6,  7,  8,  9],\n",
       "       [10, 11, 12, 13, 14, 15, 16, 17, 18, 19],\n",
       "       [20, 21, 22, 23, 24, 25, 26, 27, 28, 29],\n",
       "       [30, 31, 32, 33, 34, 35, 36, 37, 38, 39],\n",
       "       [40, 41, 42, 43, 44, 45, 46, 47, 48, 49],\n",
       "       [50, 51, 52, 53, 54, 55, 56, 57, 58, 59],\n",
       "       [60, 61, 62, 63, 64, 65, 66, 67, 68, 69],\n",
       "       [70, 71, 72, 73, 74, 75, 76, 77, 78, 79],\n",
       "       [80, 81, 82, 83, 84, 85, 86, 87, 88, 89],\n",
       "       [90, 91, 92, 93, 94, 95, 96, 97, 98, 99]])"
      ]
     },
     "execution_count": 2,
     "metadata": {},
     "output_type": "execute_result"
    }
   ],
   "source": [
    "# Создайте матрицу 10 * 10\n",
    "A = np.arange(100).reshape(10, 10)\n",
    "A"
   ]
  },
  {
   "cell_type": "code",
   "execution_count": 3,
   "metadata": {
    "colab": {
     "base_uri": "https://localhost:8080/"
    },
    "id": "U5fZZHhJf0H4",
    "outputId": "f802e77b-e0cf-445a-96ad-8ada03769c22",
    "tags": []
   },
   "outputs": [
    {
     "name": "stdout",
     "output_type": "stream",
     "text": [
      "Произведение z матрицы и вектора:\n",
      " [ 4 10]\n",
      "Скалярное произведение y:\n",
      " 14\n"
     ]
    }
   ],
   "source": [
    "f = np.array([1,2])\n",
    "g = np.array([4,5])\n",
    "z = np.dot(f, g)\n",
    "y = f*g\n",
    "print(f'Произведение z матрицы и вектора:\\n {y}')\n",
    "print(f'Скалярное произведение y:\\n {z}')"
   ]
  },
  {
   "cell_type": "markdown",
   "metadata": {
    "id": "4a0c2bc7",
    "origin_pos": 27
   },
   "source": [
    "В некоторых случаях необходимо изменить расположение строк и столбцов.\n",
    "Данная процедура называется транспонированием и обозначается символом T.\n",
    "Мы определяем транспонирование матрицы $\\mathbf{A}$ обозначением \n",
    "$\\mathbf{A}^\\top$ и если $\\mathbf{B} = \\mathbf{A}^\\top$, \n",
    "то $b_{ij} = a_{ji}$ для всех $i$ и $j$.\n",
    "Таким образом транспонирование матрицы $m \\times n$  \n",
    "является матрица $n \\times m$:\n",
    "\n",
    "$$\n",
    "\\mathbf{A}^\\top =\n",
    "\\begin{bmatrix}\n",
    "    a_{11} & a_{21} & \\dots  & a_{m1} \\\\\n",
    "    a_{12} & a_{22} & \\dots  & a_{m2} \\\\\n",
    "    \\vdots & \\vdots & \\ddots  & \\vdots \\\\\n",
    "    a_{1n} & a_{2n} & \\dots  & a_{mn}\n",
    "\\end{bmatrix}.\n",
    "$$\n",
    "\n",
    "В кода транспонирование определяется так:\n"
   ]
  },
  {
   "cell_type": "code",
   "execution_count": 4,
   "metadata": {
    "colab": {
     "base_uri": "https://localhost:8080/"
    },
    "id": "LAz80wSeC3lf",
    "outputId": "580a3e90-cca6-4dcd-8855-7d823f563666",
    "tags": []
   },
   "outputs": [
    {
     "data": {
      "text/plain": [
       "array([[ 0, 10, 20, 30, 40, 50, 60, 70, 80, 90],\n",
       "       [ 1, 11, 21, 31, 41, 51, 61, 71, 81, 91],\n",
       "       [ 2, 12, 22, 32, 42, 52, 62, 72, 82, 92],\n",
       "       [ 3, 13, 23, 33, 43, 53, 63, 73, 83, 93],\n",
       "       [ 4, 14, 24, 34, 44, 54, 64, 74, 84, 94],\n",
       "       [ 5, 15, 25, 35, 45, 55, 65, 75, 85, 95],\n",
       "       [ 6, 16, 26, 36, 46, 56, 66, 76, 86, 96],\n",
       "       [ 7, 17, 27, 37, 47, 57, 67, 77, 87, 97],\n",
       "       [ 8, 18, 28, 38, 48, 58, 68, 78, 88, 98],\n",
       "       [ 9, 19, 29, 39, 49, 59, 69, 79, 89, 99]])"
      ]
     },
     "execution_count": 4,
     "metadata": {},
     "output_type": "execute_result"
    }
   ],
   "source": [
    "# Создайте транспонированную матрицу \n",
    "A.T"
   ]
  },
  {
   "cell_type": "markdown",
   "metadata": {
    "id": "eb1f0676",
    "origin_pos": 35
   },
   "source": [
    "## Tensors\n",
    "\n",
    "В машинном обучении применяют не только скалярные, векторные, матричные\n",
    "переменные, также применяют переменные более высокого порядка - тензоры [**tensors**].\n",
    "Тензоры (**дают общий способ описания массивов $n^{\\mathrm{го}}$-разряда.**)\n",
    "Тензоры определяются заглавной буквой \n",
    "(например, $\\mathsf{X}$, $\\mathsf{Y}$, и $\\mathsf{Z}$)\n",
    "и механизм их индексирования\n",
    "(например, $x_{ijk}$ и $[\\mathsf{X}]_{1, 2i-1, 3}$) \n",
    "наследуется напрямую от обозначения матриц.\n",
    "\n",
    "Тензоры становятся более значимыми и осязаемыми при работе с изображениями.\n",
    "Кадждое изображение является $3^{\\mathrm{х}}$-разрядным тензором\n",
    "осями которого являются высота, ширина и канал.\n",
    "В каждой точке пространства значение каждого цвета (красный, зеленый, и голубой) объединяются в одном канале. \n",
    "Кроме того, набор изображений объединяется в $4^{\\mathrm{х}}$-разрядный тензор,\n",
    "где порядковый номер изображения определяется первым числом.\n",
    "Тензоры более высоких порядков определяются аналогично.\n"
   ]
  },
  {
   "cell_type": "code",
   "execution_count": 5,
   "metadata": {
    "colab": {
     "base_uri": "https://localhost:8080/"
    },
    "id": "Qv4vyspC2_pI",
    "outputId": "eda6dacd-d4d9-4c0a-d051-df5dfb5befbb",
    "tags": []
   },
   "outputs": [
    {
     "data": {
      "text/plain": [
       "array([[[0, 1],\n",
       "        [2, 3]],\n",
       "\n",
       "       [[4, 5],\n",
       "        [6, 7]]])"
      ]
     },
     "execution_count": 5,
     "metadata": {},
     "output_type": "execute_result"
    }
   ],
   "source": [
    "# Создайте тензор размера глубина:2 строки:3 4\n",
    "\n",
    "np.arange(8).reshape(2, 2, 2)"
   ]
  },
  {
   "cell_type": "code",
   "execution_count": 6,
   "metadata": {
    "colab": {
     "base_uri": "https://localhost:8080/"
    },
    "id": "JHI6njMnAu8k",
    "outputId": "2838791d-4cb9-446b-a5d9-549b7a315de3",
    "tags": []
   },
   "outputs": [
    {
     "data": {
      "text/plain": [
       "(array([[0, 1, 2],\n",
       "        [3, 4, 5]]),\n",
       " array([[ 0,  2,  4],\n",
       "        [ 6,  8, 10]]))"
      ]
     },
     "execution_count": 6,
     "metadata": {},
     "output_type": "execute_result"
    }
   ],
   "source": [
    "# Скаляры, векторы, матрицы и тензоры более высокого порядка - все они обладают схожими свойствами. Например, поэлементные операции создают выходные данные, которые имеют ту же форму, что и их операнды.\n",
    "A = np.arange(6).reshape(2, 3)\n",
    "B = A.copy()  # Размещение копии A в переменной B выделяет новый размер памяти\n",
    "A, A + B"
   ]
  },
  {
   "cell_type": "markdown",
   "metadata": {
    "id": "97f5016f",
    "origin_pos": 45
   },
   "source": [
    "Поэлементное умножение двух матриц называется произведением Адамара (обозначается символом $\\odot$).\n",
    "Ниже представлено произведение Адамара двух матриц \n",
    "$\\mathbf{A}, \\mathbf{B} \\in \\mathbb{R}^{m \\times n}$:\n",
    "\n",
    "\n",
    "\n",
    "$$\n",
    "\\mathbf{A} \\odot \\mathbf{B} =\n",
    "\\begin{bmatrix}\n",
    "    a_{11}  b_{11} & a_{12}  b_{12} & \\dots  & a_{1n}  b_{1n} \\\\\n",
    "    a_{21}  b_{21} & a_{22}  b_{22} & \\dots  & a_{2n}  b_{2n} \\\\\n",
    "    \\vdots & \\vdots & \\ddots & \\vdots \\\\\n",
    "    a_{m1}  b_{m1} & a_{m2}  b_{m2} & \\dots  & a_{mn}  b_{mn}\n",
    "\\end{bmatrix}.\n",
    "$$\n"
   ]
  },
  {
   "cell_type": "code",
   "execution_count": 7,
   "metadata": {
    "colab": {
     "base_uri": "https://localhost:8080/"
    },
    "id": "LntS-AQOBg_S",
    "outputId": "8558535e-e492-40d1-e18e-b2e960aab7b4",
    "tags": []
   },
   "outputs": [
    {
     "data": {
      "text/plain": [
       "array([[ 0,  1,  4],\n",
       "       [ 9, 16, 25]])"
      ]
     },
     "execution_count": 7,
     "metadata": {},
     "output_type": "execute_result"
    }
   ],
   "source": [
    "A*B\n",
    "# [Сложение или умножение скаляра и тензора] дает результат с той же формой, что и исходный тензор. Здесь каждый элемент тензора добавляется к скаляру (или умножается на него)."
   ]
  },
  {
   "cell_type": "code",
   "execution_count": 8,
   "metadata": {
    "colab": {
     "base_uri": "https://localhost:8080/"
    },
    "id": "IDeH4b7HF-AJ",
    "outputId": "e470776f-1cde-4bd5-d3fe-46a6bde648aa",
    "tags": []
   },
   "outputs": [
    {
     "data": {
      "text/plain": [
       "(array([[[ 2,  3,  4,  5],\n",
       "         [ 6,  7,  8,  9],\n",
       "         [10, 11, 12, 13]],\n",
       " \n",
       "        [[14, 15, 16, 17],\n",
       "         [18, 19, 20, 21],\n",
       "         [22, 23, 24, 25]]]),\n",
       " (2, 3, 4))"
      ]
     },
     "execution_count": 8,
     "metadata": {},
     "output_type": "execute_result"
    }
   ],
   "source": [
    "a = 2\n",
    "X = np.arange(24).reshape(2, 3, 4)\n",
    "a + X, (a * X).shape"
   ]
  },
  {
   "cell_type": "markdown",
   "metadata": {
    "id": "b59509f2",
    "origin_pos": 52
   },
   "source": [
    "Часто необходимо выполнить задачу [**поиска суммы элементов тензора.**]\n",
    "Для вычисления суммы элементов вектора $\\mathbf{x}$ длины $n$,\n",
    "можно применить формулу $\\sum_{i=1}^n x_i$. Функция для вычисления суммы вектора представлена ниже:\n"
   ]
  },
  {
   "cell_type": "code",
   "execution_count": 9,
   "metadata": {
    "colab": {
     "base_uri": "https://localhost:8080/"
    },
    "id": "u9aPqNkhJ5yF",
    "outputId": "f08469be-fd86-4760-8682-f694027d8999",
    "tags": []
   },
   "outputs": [
    {
     "data": {
      "text/plain": [
       "(array([0, 1, 2]), 3)"
      ]
     },
     "execution_count": 9,
     "metadata": {},
     "output_type": "execute_result"
    }
   ],
   "source": [
    "x = np.arange(3)\n",
    "x, x.sum()"
   ]
  },
  {
   "cell_type": "markdown",
   "metadata": {
    "id": "cd2e2444",
    "origin_pos": 57
   },
   "source": [
    "Для вычисления [**суммы элементов тензора произвольной формы**],\n",
    "необходимо просуммировать все элементы по каждой оси. \n",
    "Например, сумма элементов $m \\times n$ матрицы $\\mathbf{A}$ \n",
    "может быть записана в виде $\\sum_{i=1}^{m} \\sum_{j=1}^{n} a_{ij}$.\n"
   ]
  },
  {
   "cell_type": "code",
   "execution_count": 10,
   "metadata": {
    "colab": {
     "base_uri": "https://localhost:8080/"
    },
    "id": "Z9DEce1XKjug",
    "outputId": "6e68dbcb-dcae-4b46-d43c-15505dd4c8b1",
    "tags": []
   },
   "outputs": [
    {
     "data": {
      "text/plain": [
       "array([[0, 1, 2],\n",
       "       [3, 4, 5]])"
      ]
     },
     "execution_count": 10,
     "metadata": {},
     "output_type": "execute_result"
    }
   ],
   "source": [
    "A"
   ]
  },
  {
   "cell_type": "code",
   "execution_count": 11,
   "metadata": {
    "colab": {
     "base_uri": "https://localhost:8080/"
    },
    "id": "eXFV-4NSKEig",
    "outputId": "f350d535-595b-4067-83d6-cf3e501ed088",
    "tags": []
   },
   "outputs": [
    {
     "data": {
      "text/plain": [
       "((2, 3), 15)"
      ]
     },
     "execution_count": 11,
     "metadata": {},
     "output_type": "execute_result"
    }
   ],
   "source": [
    "A.shape, A.sum()"
   ]
  },
  {
   "cell_type": "code",
   "execution_count": 12,
   "metadata": {
    "colab": {
     "base_uri": "https://localhost:8080/"
    },
    "id": "fK2hNCt0KZSB",
    "outputId": "f94204c7-f1b0-40fa-fdee-f05a6eee5c84",
    "tags": []
   },
   "outputs": [
    {
     "data": {
      "text/plain": [
       "(2.5, 2.5)"
      ]
     },
     "execution_count": 12,
     "metadata": {},
     "output_type": "execute_result"
    }
   ],
   "source": [
    "A.mean(), A.sum() / A.size"
   ]
  },
  {
   "cell_type": "code",
   "execution_count": 13,
   "metadata": {
    "colab": {
     "base_uri": "https://localhost:8080/"
    },
    "id": "iUrf8O_OKaw4",
    "outputId": "643b88e5-0d90-4033-e358-6d8d315e486d",
    "tags": []
   },
   "outputs": [
    {
     "data": {
      "text/plain": [
       "(array([1.5, 2.5, 3.5]), array([1.5, 2.5, 3.5]))"
      ]
     },
     "execution_count": 13,
     "metadata": {},
     "output_type": "execute_result"
    }
   ],
   "source": [
    "A.mean(axis=0), A.sum(axis=0) / A.shape[0]"
   ]
  },
  {
   "cell_type": "markdown",
   "metadata": {
    "id": "9cdc9ba9",
    "origin_pos": 94
   },
   "source": [
    "Функция Dot может быть применена для  решения широкого круга задач.\n",
    "Например, пусть задан некоторый набор значений,\n",
    "определяемый вектором $\\mathbf{x}  \\in \\mathbb{R}^n$\n",
    "и веса определяются вектором $\\mathbf{w} \\in \\mathbb{R}^n$, тогда\n",
    "взвешенная сумма значений $\\mathbf{x}$\n",
    "в соответствии с $\\mathbf{w}$\n",
    "может быть определена через операцию dot  $\\mathbf{x}^\\top \\mathbf{w}$.\n",
    "Когда веса имеют неотрицательные значения\n",
    "и их сумма равна 1, т.е., $\\left(\\sum_{i=1}^{n} {w_i} = 1\\right)$,\n",
    "функция dot выражает *взвешенное среднее*.\n",
    "После нормализации двух векторов до единичной длины\n",
    "точечные произведения выражают косинус угла между ними.\n",
    "\n",
    "\n",
    "## Матричное умножение\n",
    "\n",
    "Разберем более подробно *умножение*\n",
    "матрицы  $\\mathbf{A}$ размера $m \\times n$  \n",
    "и $n$-размерного вектора $\\mathbf{x}$.\n",
    "Для начала представим матрицу в виде векторов строк:\n",
    "\n",
    "$$\\mathbf{A}=\n",
    "\\begin{bmatrix}\n",
    "\\mathbf{a}^\\top_{1} \\\\\n",
    "\\mathbf{a}^\\top_{2} \\\\\n",
    "\\vdots \\\\\n",
    "\\mathbf{a}^\\top_m \\\\\n",
    "\\end{bmatrix},$$\n",
    "\n",
    "где каждый элемент $\\mathbf{a}^\\top_{i} \\in \\mathbb{R}^n$\n",
    "строка вектор представляющий $i^\\mathrm{ю}$ строку \n",
    "матрицы $\\mathbf{A}$.\n",
    "\n",
    "[**Произведение матрицы и вектора $\\mathbf{A}\\mathbf{x}$\n",
    "это столбец-вектор длины $m$,\n",
    "$i^\\mathrm{й}$ элемент которого является dot произведением \n",
    "$\\mathbf{a}^\\top_i \\mathbf{x}$:**]\n",
    "\n",
    "$$\n",
    "\\mathbf{A}\\mathbf{x}\n",
    "= \\begin{bmatrix}\n",
    "\\mathbf{a}^\\top_{1} \\\\\n",
    "\\mathbf{a}^\\top_{2} \\\\\n",
    "\\vdots \\\\\n",
    "\\mathbf{a}^\\top_m \\\\\n",
    "\\end{bmatrix}\\mathbf{x}\n",
    "= \\begin{bmatrix}\n",
    " \\mathbf{a}^\\top_{1} \\mathbf{x}  \\\\\n",
    " \\mathbf{a}^\\top_{2} \\mathbf{x} \\\\\n",
    "\\vdots\\\\\n",
    " \\mathbf{a}^\\top_{m} \\mathbf{x}\\\\\n",
    "\\end{bmatrix}.\n",
    "$$\n",
    "\n",
    "Мы можем представить умножение матрицы \n",
    "$\\mathbf{A}\\in \\mathbb{R}^{m \\times n}$\n",
    "как проекцию векторов\n",
    "из пространства $\\mathbb{R}^{n}$ в пространство $\\mathbb{R}^{m}$.\n",
    "Эти преобразования удивительно полезны.\n",
    "Например, мы можем представить вращения\n",
    "как умножение на определенные квадратные матрицы.\n",
    "Матрично-векторные произведения также описывают\n",
    "ключевые вычисления, выполняемые в нейронных сетях\n",
    "пр ипрямом прохождении слоев.\n"
   ]
  },
  {
   "cell_type": "code",
   "execution_count": 14,
   "metadata": {
    "colab": {
     "base_uri": "https://localhost:8080/"
    },
    "id": "fKAwEDiVKy-i",
    "outputId": "3be41657-2b04-4725-e932-51cb3d3e8685",
    "tags": []
   },
   "outputs": [
    {
     "data": {
      "text/plain": [
       "((2, 3), (3,), array([ 5, 14]))"
      ]
     },
     "execution_count": 14,
     "metadata": {},
     "output_type": "execute_result"
    }
   ],
   "source": [
    "A.shape, x.shape, np.dot(A, x)"
   ]
  },
  {
   "cell_type": "markdown",
   "metadata": {
    "id": "4ec0dd6c",
    "origin_pos": 102
   },
   "source": [
    "## Умножение матрицы на матрицу\n",
    "\n",
    "Пусть имеется 2 матрицы\n",
    "$\\mathbf{A} \\in \\mathbb{R}^{n \\times k}$ \n",
    "и $\\mathbf{B} \\in \\mathbb{R}^{k \\times m}$:\n",
    "\n",
    "$$\\mathbf{A}=\\begin{bmatrix}\n",
    " a_{11} & a_{12} & \\cdots & a_{1k} \\\\\n",
    " a_{21} & a_{22} & \\cdots & a_{2k} \\\\\n",
    "\\vdots & \\vdots & \\ddots & \\vdots \\\\\n",
    " a_{n1} & a_{n2} & \\cdots & a_{nk} \\\\\n",
    "\\end{bmatrix},\\quad\n",
    "\\mathbf{B}=\\begin{bmatrix}\n",
    " b_{11} & b_{12} & \\cdots & b_{1m} \\\\\n",
    " b_{21} & b_{22} & \\cdots & b_{2m} \\\\\n",
    "\\vdots & \\vdots & \\ddots & \\vdots \\\\\n",
    " b_{k1} & b_{k2} & \\cdots & b_{km} \\\\\n",
    "\\end{bmatrix}.$$\n",
    "\n",
    "\n",
    "Пусть $\\mathbf{a}^\\top_{i} \\in \\mathbb{R}^k$ является $i^\\mathrm{th}$ строкой-вектором матрицы $\\mathbf{A}$\n",
    "и $\\mathbf{b}_{j} \\in \\mathbb{R}^k$ является столбцом-вектором $j^\\mathrm{th}$ матрицы $\\mathbf{B}$:\n",
    "\n",
    "$$\\mathbf{A}=\n",
    "\\begin{bmatrix}\n",
    "\\mathbf{a}^\\top_{1} \\\\\n",
    "\\mathbf{a}^\\top_{2} \\\\\n",
    "\\vdots \\\\\n",
    "\\mathbf{a}^\\top_n \\\\\n",
    "\\end{bmatrix},\n",
    "\\quad \\mathbf{B}=\\begin{bmatrix}\n",
    " \\mathbf{b}_{1} & \\mathbf{b}_{2} & \\cdots & \\mathbf{b}_{m} \\\\\n",
    "\\end{bmatrix}.\n",
    "$$\n",
    "\n",
    "\n",
    "Для выполнения умножения $\\mathbf{C} \\in \\mathbb{R}^{n \\times m}$,\n",
    "вычислим каждый элемент $c_{ij}$\n",
    "как произведение\n",
    " $i^{\\mathrm{й}}$ строки матрицы $\\mathbf{A}$\n",
    "и $j^{\\mathrm{го}}$ элемента матрицы $\\mathbf{B}$,\n",
    "т.е., $\\mathbf{a}^\\top_i \\mathbf{b}_j$:\n",
    "\n",
    "$$\\mathbf{C} = \\mathbf{AB} = \\begin{bmatrix}\n",
    "\\mathbf{a}^\\top_{1} \\\\\n",
    "\\mathbf{a}^\\top_{2} \\\\\n",
    "\\vdots \\\\\n",
    "\\mathbf{a}^\\top_n \\\\\n",
    "\\end{bmatrix}\n",
    "\\begin{bmatrix}\n",
    " \\mathbf{b}_{1} & \\mathbf{b}_{2} & \\cdots & \\mathbf{b}_{m} \\\\\n",
    "\\end{bmatrix}\n",
    "= \\begin{bmatrix}\n",
    "\\mathbf{a}^\\top_{1} \\mathbf{b}_1 & \\mathbf{a}^\\top_{1}\\mathbf{b}_2& \\cdots & \\mathbf{a}^\\top_{1} \\mathbf{b}_m \\\\\n",
    " \\mathbf{a}^\\top_{2}\\mathbf{b}_1 & \\mathbf{a}^\\top_{2} \\mathbf{b}_2 & \\cdots & \\mathbf{a}^\\top_{2} \\mathbf{b}_m \\\\\n",
    " \\vdots & \\vdots & \\ddots &\\vdots\\\\\n",
    "\\mathbf{a}^\\top_{n} \\mathbf{b}_1 & \\mathbf{a}^\\top_{n}\\mathbf{b}_2& \\cdots& \\mathbf{a}^\\top_{n} \\mathbf{b}_m\n",
    "\\end{bmatrix}.\n",
    "$$\n",
    "\n",
    "\n",
    "В ячейке ниже, выполним матричное умножение матрицы `A` на матрицу `B`.\n",
    "Матрица `A` содержит 2 строки и 3 столбца,\n",
    "матрица `B` - 3 строки и 4 столбца.\n",
    "В результате умножения получаем матрицу с 2 строками и 4 столбцами.\n"
   ]
  },
  {
   "cell_type": "code",
   "execution_count": 15,
   "metadata": {
    "colab": {
     "base_uri": "https://localhost:8080/"
    },
    "id": "sjtqf0NYK2p4",
    "outputId": "fea74e24-5419-471b-bcad-0f5dc96f8592",
    "tags": []
   },
   "outputs": [
    {
     "data": {
      "text/plain": [
       "array([[ 3.,  3.,  3.,  3.],\n",
       "       [12., 12., 12., 12.]])"
      ]
     },
     "execution_count": 15,
     "metadata": {},
     "output_type": "execute_result"
    }
   ],
   "source": [
    "B = np.ones(shape=(3, 4))\n",
    "np.dot(A, B)"
   ]
  },
  {
   "cell_type": "markdown",
   "metadata": {
    "id": "9732e615",
    "origin_pos": 107
   },
   "source": [
    "\n",
    "## Norms\n",
    "\n",
    "НАиболее полезный инструмент линейной алгебры - процедура *нормирования*.\n",
    "Неформально, нормирование вектора поможет ответить на вопрос насколько  *большими значениями* он наполнен. \n",
    "Например, $\\ell_2$ норма\n",
    "измеряет Евклидову длину вектора.\n",
    "Здесь мы используем понятие *size*, которое относится к величине компонентов вектора\n",
    "(а не к его размерности).\n",
    "\n",
    "Норма - это функция $\\| \\cdot \\|$ которая отображает вектор\n",
    "в скаляр и удовлетворяет 3 свойствам:\n",
    "\n",
    "1. Для каждого вектора $\\mathbf{x}$, если преобразуется вектор (все его элементы) \n",
    "   с помощью скалярного значения $\\alpha \\in \\mathbb{R}$, то справедлива следующая формула:\n",
    "   $$\\|\\alpha \\mathbf{x}\\| = |\\alpha| \\|\\mathbf{x}\\|.$$\n",
    "2. Для любых векторов $\\mathbf{x}$ и $\\mathbf{y}$:\n",
    "   нормирование удовлетворяет неравенству треугольника:\n",
    "   $$\\|\\mathbf{x} + \\mathbf{y}\\| \\leq \\|\\mathbf{x}\\| + \\|\\mathbf{y}\\|.$$\n",
    "3. Норма вектора неотрицательна и обращается в нуль только в том случае, если вектор равен нулю:\n",
    "   $$\\|\\mathbf{x}\\| > 0 \\text{ for all } \\mathbf{x} \\neq 0.$$\n",
    "\n",
    "Многие функции являются допустимыми нормами, и разные нормы кодируют разные понятия размера.\n",
    "Евклидова норма, которую мы все изучали в геометрии начальной школы\n",
    "при вычислении гипотенузы прямоугольного треугольника, представляет собой квадратный корень из суммы квадратов элементов вектора.\n",
    "Формально она обозначается [**the $\\ell_2$ *norm***] и вычисляется по формуле:\n",
    "\n",
    "(**$$\\|\\mathbf{x}\\|_2 = \\sqrt{\\sum_{i=1}^n x_i^2}.$$**)\n",
    "\n",
    "Функция `norm` вычисляет $\\ell_2$ norm.\n"
   ]
  },
  {
   "cell_type": "code",
   "execution_count": 16,
   "metadata": {
    "colab": {
     "base_uri": "https://localhost:8080/"
    },
    "id": "ZqSPCo8sLQAl",
    "outputId": "9b2ca1ec-e2a1-4b92-c855-47afad9786e9",
    "tags": []
   },
   "outputs": [
    {
     "data": {
      "text/plain": [
       "5.0"
      ]
     },
     "execution_count": 16,
     "metadata": {},
     "output_type": "execute_result"
    }
   ],
   "source": [
    "u = np.array([3, -4])\n",
    "np.linalg.norm(u)"
   ]
  },
  {
   "cell_type": "markdown",
   "metadata": {
    "id": "a4e82810",
    "origin_pos": 112
   },
   "source": [
    "[**The $\\ell_1$ norm**] также популярна и ассоциирована с метрикой Манхэтеннское расстояние. \n",
    "По определению $\\ell_1$ норма является суммой абсолютных значений вектора элементов:\n",
    "\n",
    "(**$$\\|\\mathbf{x}\\|_1 = \\sum_{i=1}^n \\left|x_i \\right|.$$**)\n",
    "\n",
    "В сравнении с $\\ell_2$ нормой, она менее чувствительна к выбросам в данных."
   ]
  },
  {
   "cell_type": "code",
   "execution_count": 17,
   "metadata": {
    "colab": {
     "base_uri": "https://localhost:8080/"
    },
    "id": "iak8diloLWCw",
    "outputId": "ca90363a-183b-4596-eddd-6ec5582fa8b8",
    "tags": []
   },
   "outputs": [
    {
     "data": {
      "text/plain": [
       "7"
      ]
     },
     "execution_count": 17,
     "metadata": {},
     "output_type": "execute_result"
    }
   ],
   "source": [
    "np.abs(u).sum()"
   ]
  },
  {
   "cell_type": "markdown",
   "metadata": {
    "id": "c9276ab7",
    "origin_pos": 117
   },
   "source": [
    "Обе нормы $\\ell_2$ и $\\ell_1$ являются частными случаями более общей $\\ell_p$ *нормы*, определяемой выражением:\n",
    "\n",
    "$$\\|\\mathbf{x}\\|_p = \\left(\\sum_{i=1}^n \\left|x_i \\right|^p \\right)^{1/p}.$$\n",
    "\n",
    "В случае с матрицами все обстоит сложнее.\n",
    "В конце концов, матрицы можно рассматривать как наборы отдельных записей\n",
    "*и* как объекты, которые оперируют векторами и преобразуют их в другие векторы.\n",
    "Например, мы можем спросить, насколько длиннее\n",
    "матрично-векторное произведение $\\mathbf{X} \\mathbf{v}$ \n",
    "может быть относительно $\\mathbf{v}$. \n",
    "Этот ход мыслей приводит к норме, называемой \"спектральной\" нормой.\n",
    "На данный момент мы вводим [** норму Фробениуса *,\n",
    "которую намного проще вычислить **] и определяем как\n",
    "квадратный корень из суммы квадратов\n",
    "элементов матрицы:\n",
    "\n",
    "[**$$\\|\\mathbf{X}\\|_F = \\sqrt{\\sum_{i=1}^m \\sum_{j=1}^n x_{ij}^2}.$$**]\n",
    "\n",
    "Норма Фробениуса ведет себя так, как если бы это была\n",
    "норма $ \\ ell_2$ вектора в форме матрицы.\n",
    "Вызов следующей функции вычислит\n",
    "норму Фробениуса матрицы.\n"
   ]
  },
  {
   "cell_type": "code",
   "execution_count": 18,
   "metadata": {
    "colab": {
     "base_uri": "https://localhost:8080/"
    },
    "id": "3t5akcWGLdQE",
    "outputId": "90d6d94d-1b11-43a5-e2e9-0f09e784ab0f",
    "tags": []
   },
   "outputs": [
    {
     "data": {
      "text/plain": [
       "6.0"
      ]
     },
     "execution_count": 18,
     "metadata": {},
     "output_type": "execute_result"
    }
   ],
   "source": [
    "np.linalg.norm(np.ones((4, 9)))"
   ]
  },
  {
   "cell_type": "markdown",
   "metadata": {},
   "source": [
    "# Приложения линейной алгебры в ML"
   ]
  },
  {
   "cell_type": "code",
   "execution_count": 19,
   "metadata": {
    "colab": {
     "base_uri": "https://localhost:8080/"
    },
    "id": "b_CVddClloyT",
    "outputId": "515fcaa1-3a4c-48cd-8b3a-23cb7adc16f3",
    "tags": []
   },
   "outputs": [
    {
     "name": "stdout",
     "output_type": "stream",
     "text": [
      "Predicted value: 1.00\n"
     ]
    }
   ],
   "source": [
    "def predict(data, w):\n",
    "  return data.dot(w)\n",
    "# w is the vector of weights\n",
    "w = np.array([0.2, 0.25, 0.3])\n",
    "# matrices as input datasets\n",
    "data1 = np.array([0.1, 0.5, 1.8])\n",
    "data2 = np.array([2.6, 5.1, 3.9])\n",
    "data3 = np.array([1.1, 2.1, 4.7])\n",
    "data_in = np.array([data1[0],data2[0],data3[0]])\n",
    "print('Predicted value: %.2f' % predict(data_in, w) )"
   ]
  },
  {
   "cell_type": "markdown",
   "metadata": {
    "id": "HWpDXY5ugItb"
   },
   "source": [
    "![np_dot.jpg](data:image/jpeg;base64,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)"
   ]
  },
  {
   "cell_type": "markdown",
   "metadata": {
    "id": "77ad1c48",
    "origin_pos": 122
   },
   "source": [
    "Хотя мы не хотим забегать слишком далеко вперед, мы уже можем заложить некоторые интуитивные определения относительно того, почему эти концепции полезны. В глубоком обучении мы часто пытаемся решить задачи оптимизации: максимизировать вероятность, присвоенную наблюдаемым данным; максимизировать доход, связанный с рекомендательной моделью; минимизировать расстояние между прогнозами и точными наблюдениями; минимизировать расстояние между представлениями фотографий одного и того же человека при максимизации расстояния между представлениями фотографии разных людей. Эти расстояния, которые составляют цели алгоритмов глубокого обучения, часто выражаются как нормы.\n",
    "\n",
    "\n",
    "## Discussion\n",
    "\n",
    "В этом разделе мы рассмотрели всю линейную алгебру, которая вам понадобится для понимания значительной части современного глубокого обучения.\n",
    "В линейной алгебре есть гораздо больше понятий и концепций, и многое из этого полезно для машинного обучения.\n",
    "Например, матрицы могут быть разложены на множители, и эти разложения могут выявить низкоразмерную структуру в реальных наборах данных.\n",
    "Существуют подразделы машинного обучения, которые сосредоточены на использовании матричных разложений и их обобщений на тензоры высокого порядка\n",
    "для обнаружения структуры в наборах данных и решения задач прогнозирования.\n",
    "\n",
    "\n",
    "Резюме:\n",
    "\n",
    "* Скаляры, векторы, матрицы и тензоры являются основными математическими объектами, используемыми в линейной алгебре, и имеют ноль, одну, две или произвольное число осей соответственно.\n",
    "* Тензоры могут быть разделены или уменьшены по указанным осям с помощью индексации или таких операций, как `сумма` и \"среднее значение\" соответственно.\n",
    "* Произведение элементов называется произведением Адамара.\n",
    "  Напротив, точечные произведения, матрично-векторные произведения и матрично-матричные произведения\n",
    "  не являются поэлементными операциями и, как правило, возвращают объекты, формы которых отличаются от форм операндов.\n",
    "* По сравнению с произведением Адамара, матрично-матричные произведения вычисляются значительно дольше (кубическое, а не квадратичное время).\n",
    "* Нормы отражают различные представления о величине вектора, и обычно применяются к разности двух векторов для измерения их расстояния.\n",
    "* Общие векторные нормы включают нормы $\\ell_1$ и $\\ell_2$, а общие матричные нормы включают нормы *спектральные* и *Фробениуса*."
   ]
  },
  {
   "cell_type": "markdown",
   "metadata": {},
   "source": [
    "1. Докажите, что транспонирование транспонированной матрицы - это сама матрица: $(\\mathbf{A}^\\top)^\\top = \\mathbf{A}$."
   ]
  },
  {
   "cell_type": "code",
   "execution_count": 20,
   "metadata": {},
   "outputs": [
    {
     "data": {
      "text/plain": [
       "True"
      ]
     },
     "execution_count": 20,
     "metadata": {},
     "output_type": "execute_result"
    }
   ],
   "source": [
    "A = np.arange(9).reshape(3, 3)\n",
    "np.array_equal(A, A.T.T)"
   ]
  },
  {
   "cell_type": "markdown",
   "metadata": {},
   "source": [
    "2. Для двух матриц $\\mathbf{A}$ и $\\mathbf{B}$, покажите, что сумма и транспозиция коммутируют: $\\mathbf{A}^\\top + \\mathbf{B}^\\top = (\\mathbf{A} + \\mathbf{B})^\\top$."
   ]
  },
  {
   "cell_type": "code",
   "execution_count": 21,
   "metadata": {},
   "outputs": [
    {
     "data": {
      "text/plain": [
       "True"
      ]
     },
     "execution_count": 21,
     "metadata": {},
     "output_type": "execute_result"
    }
   ],
   "source": [
    "A = np.random.randint(1, 10, size=(3,3))\n",
    "B = np.random.randint(1, 10, size=(3,3))\n",
    "\n",
    "np.array_equal(A.T + B.T, (A+B).T)"
   ]
  },
  {
   "cell_type": "markdown",
   "metadata": {},
   "source": [
    "3. Для любой квадратичной матрицы $\\mathbf{A}$, сумма матриц $\\mathbf{A} + \\mathbf{A}^\\top$ всегда ли симметрична? Можете ли вы доказать это, используя только предыдущие два упражнения?"
   ]
  },
  {
   "cell_type": "code",
   "execution_count": 22,
   "metadata": {},
   "outputs": [
    {
     "name": "stdout",
     "output_type": "stream",
     "text": [
      "True\n",
      "True\n",
      "True\n",
      "True\n",
      "True\n",
      "True\n",
      "True\n",
      "True\n",
      "True\n",
      "True\n"
     ]
    }
   ],
   "source": [
    "for i in range(10):\n",
    "    A = np.random.randint(1, 10, size=(3,3))\n",
    "    print(np.array_equal(A+A.T, (A+A.T).T))"
   ]
  },
  {
   "cell_type": "markdown",
   "metadata": {},
   "source": [
    "4. Мы определяли тензор `X` размерности (2, 3, 4). Что возвращает функция `len(X)`? Попробуйте записать ответ используя воображение, потом проверьте свой ответ в среде программирования. "
   ]
  },
  {
   "cell_type": "code",
   "execution_count": 23,
   "metadata": {},
   "outputs": [
    {
     "name": "stdout",
     "output_type": "stream",
     "text": [
      "Ожидаемый ответ: 24 (количество элементов тензора)\n",
      "Фактический ответ: 2 (размерность по оси X)\n"
     ]
    }
   ],
   "source": [
    "X = np.random.rand(2,3,4)\n",
    "print(f\"Ожидаемый ответ: {np.size(X)} (количество элементов тензора)\")\n",
    "print(f\"Фактический ответ: {len(X)} (размерность по оси X)\")"
   ]
  },
  {
   "cell_type": "markdown",
   "metadata": {},
   "source": [
    "5. Для тензора `X` произвольной размерности, всегда ли функция `len(X)` возвращает длину тензора по оси `X`? Что такое ось?"
   ]
  },
  {
   "cell_type": "code",
   "execution_count": 24,
   "metadata": {},
   "outputs": [
    {
     "name": "stdout",
     "output_type": "stream",
     "text": [
      "Для тензора X размерностью (1, 2) len(X) = 1\n",
      "Для тензора X размерностью (3, 1, 4) len(X) = 3\n",
      "Для тензора X размерностью (4, 2, 2, 4) len(X) = 4\n",
      "Для тензора X размерностью (3, 1, 1, 1, 1) len(X) = 3\n",
      "Для тензора X размерностью (3, 3, 2, 4, 3, 4) len(X) = 3\n",
      "Для тензора X размерностью (2, 4, 1, 3, 2, 4, 3) len(X) = 2\n",
      "Для тензора X размерностью (1, 2, 4, 2, 3, 3, 1, 4) len(X) = 1\n",
      "Для тензора X размерностью (2, 2, 3, 1, 3, 4, 3, 3, 2) len(X) = 2\n"
     ]
    }
   ],
   "source": [
    "for i in range(2,10):\n",
    "    dimensions = np.random.randint(1, 5, size=i)\n",
    "    X = np.random.rand(*dimensions)\n",
    "    print(f\"Для тензора X размерностью {X.shape} len(X) = {len(X)}\")"
   ]
  },
  {
   "cell_type": "markdown",
   "metadata": {},
   "source": [
    "6. Запустите следующий фрагмент кода `A / A.sum(axis=1)` и проверьте полученный результат. Можете пояснить причину?"
   ]
  },
  {
   "cell_type": "code",
   "execution_count": 25,
   "metadata": {},
   "outputs": [
    {
     "name": "stdout",
     "output_type": "stream",
     "text": [
      "Исходная матрица:\n",
      "[[1 1 1]\n",
      " [1 1 1]\n",
      " [1 1 1]]\n",
      "\n",
      "Сумма в каждой строке:\n",
      "[3 3 3]\n",
      "\n",
      "Результат операции:\n",
      "[[0.33333333 0.33333333 0.33333333]\n",
      " [0.33333333 0.33333333 0.33333333]\n",
      " [0.33333333 0.33333333 0.33333333]]\n"
     ]
    }
   ],
   "source": [
    "A = np.random.randint(1,2, size=(3,3))\n",
    "\n",
    "print(f\"Исходная матрица:\\n{A}\\n\")\n",
    "print(f\"Сумма в каждой строке:\\n{A.sum(axis=1)}\\n\")\n",
    "print(f\"Результат операции:\\n{A / A.sum(axis=1)}\")"
   ]
  },
  {
   "cell_type": "markdown",
   "metadata": {},
   "source": [
    "Вродь все прально считается :)"
   ]
  },
  {
   "cell_type": "markdown",
   "metadata": {},
   "source": [
    "7. Рассмотрим тензор размерности (2, 3, 4). Какие размерности можно получить при суммирования элементов тензора по осям 0, 1 и 2?"
   ]
  },
  {
   "cell_type": "code",
   "execution_count": 26,
   "metadata": {},
   "outputs": [
    {
     "name": "stdout",
     "output_type": "stream",
     "text": [
      "[[[0.20312817 0.88732053 0.37432033 0.14592007]\n",
      "  [0.93660404 0.13131323 0.09576235 0.83397031]\n",
      "  [0.70969317 0.23364227 0.13029256 0.99402675]]\n",
      "\n",
      " [[0.58427484 0.34889902 0.49151857 0.06902029]\n",
      "  [0.92190446 0.70377238 0.51830235 0.17338724]\n",
      "  [0.72795561 0.88267511 0.73567776 0.76624113]]]\n",
      "(3, 4)\n",
      "(2, 4)\n",
      "(2, 3)\n"
     ]
    }
   ],
   "source": [
    "X = np.random.rand(2,3,4)\n",
    "\n",
    "print(X)\n",
    "\n",
    "for i in range(X.ndim):\n",
    "    print(X.sum(axis=i).shape)"
   ]
  },
  {
   "cell_type": "markdown",
   "metadata": {},
   "source": [
    "8. Передайте тензор с 3 или более осями в функцию `linalg.norm` и наблюдайте за его выводом. Что эта функция вычисляет для тензоров произвольной формы?"
   ]
  },
  {
   "cell_type": "code",
   "execution_count": 27,
   "metadata": {},
   "outputs": [
    {
     "name": "stdout",
     "output_type": "stream",
     "text": [
      "[[[0.22807409 0.26581456 0.13660007]\n",
      "  [0.10973616 0.98201615 0.39919288]]\n",
      "\n",
      " [[0.90590515 0.1579435  0.74240995]\n",
      "  [0.062569   0.64011479 0.9434974 ]]\n",
      "\n",
      " [[0.0736084  0.76971751 0.78140624]\n",
      "  [0.7571499  0.47007483 0.63878389]]\n",
      "\n",
      " [[0.42323609 0.44446321 0.6003411 ]\n",
      "  [0.15873872 0.26292184 0.10203113]]]\n"
     ]
    },
    {
     "data": {
      "text/plain": [
       "2.688923871153456"
      ]
     },
     "execution_count": 27,
     "metadata": {},
     "output_type": "execute_result"
    }
   ],
   "source": [
    "X = np.random.rand(4,2,3)\n",
    "\n",
    "print(X)\n",
    "\n",
    "np.linalg.norm(X)"
   ]
  },
  {
   "cell_type": "markdown",
   "metadata": {},
   "source": [
    "9. Определите 3 матрицы $\\mathbf{A} \\in \\mathbb{R}^{2^{10} \\times 2^{16}}$, $\\mathbf{B} \\in \\mathbb{R}^{2^{16} \\times 2^{5}}$ и $\\mathbf{C} \\in \\mathbb{R}^{2^{5} \\times 2^{14}}$, содержащие случайные переменные, распределенные по нормальному закону распределения. Вычислите произведение матриц: $\\mathbf{A} \\mathbf{B} \\mathbf{C}$. Есть ли какая-либо разница в объеме памяти и скорости в зависимости от того, вычилсяете Вы $(\\mathbf{A} \\mathbf{B}) \\mathbf{C}$ или $\\mathbf{A} (\\mathbf{B} \\mathbf{C})$. Объясните результаты?"
   ]
  },
  {
   "cell_type": "markdown",
   "metadata": {},
   "source": [
    "10. Определите 3 матрицы $\\mathbf{A} \\in \\mathbb{R}^{2^{10} \\times 2^{16}}$, $\\mathbf{B} \\in \\mathbb{R}^{2^{16} \\times 2^{5}}$ and $\\mathbf{C} \\in \\mathbb{R}^{2^{5} \\times 2^{16}}$. Есть ли какая-либо разница в объеме памяти и скорости в зависимости от того, вычилсяете Вы $\\mathbf{A} \\mathbf{B}$ или $\\mathbf{A} \\mathbf{C}^\\top$? Объясните результаты? Что изменится, если обозначить $\\mathbf{C} = \\mathbf{B}^\\top$ без процедуры клонирования памяти? "
   ]
  },
  {
   "cell_type": "markdown",
   "metadata": {},
   "source": [
    "11. Определите 3 матрицы $\\mathbf{A}, \\mathbf{B}, \\mathbf{C} \\in \\mathbb{R}^{100 \\times 200}$. Сформируйте тензор с 3-мя осями путем объединения матриц $[\\mathbf{A}, \\mathbf{B}, \\mathbf{C}]$. Какова размерность софрмирвоанного тензора? Вырежьте вторую координату третьей оси, чтобы восстановить $\\mathbf{B}$. Проверьте, что ваш ответ правильный."
   ]
  }
 ],
 "metadata": {
  "colab": {
   "provenance": []
  },
  "kernelspec": {
   "display_name": "Python 3 (ipykernel)",
   "language": "python",
   "name": "python3"
  },
  "language_info": {
   "codemirror_mode": {
    "name": "ipython",
    "version": 3
   },
   "file_extension": ".py",
   "mimetype": "text/x-python",
   "name": "python",
   "nbconvert_exporter": "python",
   "pygments_lexer": "ipython3",
   "version": "3.10.10"
  },
  "vscode": {
   "interpreter": {
    "hash": "916dbcbb3f70747c44a77c7bcd40155683ae19c65e1c03b4aa3499c5328201f1"
   }
  }
 },
 "nbformat": 4,
 "nbformat_minor": 4
}
